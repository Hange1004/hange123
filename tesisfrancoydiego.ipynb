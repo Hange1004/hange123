{
 "cells": [
  {
   "cell_type": "code",
   "execution_count": null,
   "id": "667b0f94-9e37-457e-83a1-60bcefcb86e6",
   "metadata": {},
   "outputs": [],
   "source": [
    "import os\n",
    "import cv2\n",
    "import keras\n",
    "import numpy as np\n",
    "from keras.preprocessing.image import ImageDataGenerator\n",
    "from ____ import ____\n",
    "from ____ import ____\n",
    "import matplotlib.pyplot as plt"
   ]
  },
  {
   "cell_type": "code",
   "execution_count": null,
   "id": "e07917e1-32c0-4489-8511-1990e0256e2a",
   "metadata": {},
   "outputs": [],
   "source": [
    "os.listdir(train_folder)\n",
    "train_sanas = ____+'/normal/'\n",
    "train_neum = ____+'/neumonia/'\n",
    "img_sanas = []\n",
    "img_neumonia = []\n",
    "for i in ____(4):\n",
    "    num_alea = np.random.randint(len(os.listdir(train_sanas)))\n",
    "    img_sanas.append(train_sanas + os.listdir(train_sanas)[num_alea])\n",
    "    img_neumonia.append(train_neum + os.listdir(train_neum)[num_alea])"
   ]
  },
  {
   "cell_type": "code",
   "execution_count": null,
   "id": "5614261d-6c0d-478c-be56-6dddbdb0a1b9",
   "metadata": {},
   "outputs": [],
   "source": [
    "print('Primer fila: personas sin neumonía')\n",
    "print('Segunda fila: personas con neumonía')\n",
    "plt.rcParams['figure.dpi'] = 150\n",
    "for num_imagen in ____(8):\n",
    "    if num_imagen<4:\n",
    "        imagen = cv2.imread(img_sanas[num_imagen])\n",
    "    else:\n",
    "        imagen = cv2.imread(img_neumonia[num_imagen-4])\n",
    "    plt.subplot(2,4,num_imagen+1)\n",
    "    plt.imshow(____)\n",
    "    plt.axis('off')\n",
    "plt.show()"
   ]
  },
  {
   "cell_type": "code",
   "execution_count": null,
   "id": "27db2885-a4a5-44ad-b7cc-1ce331fd7379",
   "metadata": {},
   "outputs": [],
   "source": [
    "cnn = models.Sequential()\n",
    "\n",
    "cnn.add(layers.____(32, (3, 3), activation=\"relu\", input_shape=(150, 150, 3)))\n",
    "cnn.add(layers.____(pool_size = (2, 2)))\n",
    "cnn.add(layers.____(32, (3, 3), activation=\"relu\"))\n",
    "cnn.add(layers.____(pool_size = (2, 2)))\n",
    "cnn.add(layers.____(32, (3, 3), activation=\"relu\"))\n",
    "cnn.add(layers.____(pool_size = (2, 2)))\n",
    "cnn.add(layers.____())\n",
    "\n",
    "cnn.add(layers.____(activation = 'relu', units = 128))\n",
    "cnn.add(layers.____(activation = 'sigmoid', units = 1))\n",
    "\n",
    "cnn.____(optimizer = 'adam', loss = 'binary_crossentropy', metrics = ['accuracy'])"
   ]
  },
  {
   "cell_type": "code",
   "execution_count": null,
   "id": "d4c39a73-7952-4839-b11c-8516dbe69b7e",
   "metadata": {},
   "outputs": [],
   "source": [
    "cnn.____()"
   ]
  },
  {
   "cell_type": "code",
   "execution_count": null,
   "id": "642ac22f-927c-4334-a3eb-3db8c0adc2b4",
   "metadata": {},
   "outputs": [],
   "source": [
    "\n",
    "train_datagen = ImageDataGenerator(rescale = 1./255,\n",
    "                                   shear_range = 0.2,\n",
    "                                   zoom_range = 0.2,\n",
    "                                   horizontal_flip = True)\n",
    "\n",
    "test_datagen = ImageDataGenerator(rescale = 1./255)\n",
    "\n",
    "training_set = train_datagen.flow_from_directory(train_folder,\n",
    "                                                 target_size = (150, 150),\n",
    "                                                 batch_size = ____,\n",
    "                                                 class_mode = '____')\n",
    "\n",
    "validation_generator = test_datagen.flow_from_directory(val_folder,\n",
    "                                                        target_size =(150, 150),\n",
    "                                                        batch_size = ____,\n",
    "                                                        class_mode = '____')\n",
    "\n",
    "test_set = test_datagen.flow_from_directory(test_folder,\n",
    "                                            target_size = (150, 150),\n",
    "                                            batch_size = ____,\n",
    "                                            class_mode = '____')"
   ]
  }
 ],
 "metadata": {
  "kernelspec": {
   "display_name": "Python 3 (ipykernel)",
   "language": "python",
   "name": "python3"
  },
  "language_info": {
   "codemirror_mode": {
    "name": "ipython",
    "version": 3
   },
   "file_extension": ".py",
   "mimetype": "text/x-python",
   "name": "python",
   "nbconvert_exporter": "python",
   "pygments_lexer": "ipython3",
   "version": "3.13.5"
  }
 },
 "nbformat": 4,
 "nbformat_minor": 5
}
